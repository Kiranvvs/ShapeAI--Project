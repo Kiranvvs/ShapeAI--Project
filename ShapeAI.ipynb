{
  "nbformat": 4,
  "nbformat_minor": 0,
  "metadata": {
    "colab": {
      "name": "ShapeAI.ipynb",
      "provenance": [],
      "collapsed_sections": []
    },
    "kernelspec": {
      "name": "python3",
      "display_name": "Python 3"
    },
    "language_info": {
      "name": "python"
    }
  },
  "cells": [
    {
      "cell_type": "markdown",
      "metadata": {
        "id": "iaVbutIZErJk"
      },
      "source": [
        "1. Write a program in python to generate md5 hash of given string\n"
      ]
    },
    {
      "cell_type": "code",
      "metadata": {
        "id": "x9zDvMkXExnB"
      },
      "source": [
        "import hashlib\n",
        "import string\n",
        "import random\n",
        "\n",
        "def md5generate( value ) :\n",
        "  '''\n",
        "  this function is used to generate md5 hash of given string equivalent to Hexadecimal \n",
        "  '''\n",
        "  result = hashlib.md5( str(value).encode() )\n",
        "  return result.hexdigest()"
      ],
      "execution_count": 1,
      "outputs": []
    },
    {
      "cell_type": "code",
      "metadata": {
        "colab": {
          "base_uri": "https://localhost:8080/"
        },
        "id": "Y1ltAFsgE-2p",
        "outputId": "40133b92-38f7-448c-cfa3-e0205cd11ae4"
      },
      "source": [
        "lst = [ \"Kiran V\" ]\n",
        "\n",
        "word = string.ascii_letters+ string.digits + string.punctuation\n",
        "#generate random string of length 15\n",
        "random_string = ''.join(  random.choice( word ) for _ in range(  15 )  )\n",
        "lst.append( random_string )\n",
        "\n",
        "for i in lst:\n",
        "  a = md5generate(i )\n",
        "  print( \"String : {:<15s}  and Hexadecimal equivalent of Hash : {}\".format( i , a))"
      ],
      "execution_count": 2,
      "outputs": [
        {
          "output_type": "stream",
          "text": [
            "String : Kiran V          and Hexadecimal equivalent of Hash : 6283968bfa4383445fd07920af8fc8d2\n",
            "String : X|<BYZ=x%+:AAD8  and Hexadecimal equivalent of Hash : 5ac4086b976b808329051a8710c6b47d\n"
          ],
          "name": "stdout"
        }
      ]
    },
    {
      "cell_type": "markdown",
      "metadata": {
        "id": "0T_7y8OhFCJ4"
      },
      "source": [
        "2. Write a program in python to generate hashes of given string using any 3 algorithms from hashlib module\n"
      ]
    },
    {
      "cell_type": "code",
      "metadata": {
        "id": "igjPExPOEQl_"
      },
      "source": [
        "def generate_hash_using_any_algorithm( algo, value ):\n",
        "  '''\n",
        "  this function is used to generate hash using input algorithm and returns the hash of given string equivalent to Hexadecimal  \n",
        "  '''\n",
        "  result = eval( \"hashlib.\"+ algo + \"()\" )\n",
        "  result.update( value.encode() )\n",
        "\n",
        "  try:\n",
        "    a = result.hexdigest()\n",
        "  except: \n",
        "    a = result.hexdigest(128)\n",
        "\n",
        "  return a"
      ],
      "execution_count": 3,
      "outputs": []
    },
    {
      "cell_type": "code",
      "metadata": {
        "colab": {
          "base_uri": "https://localhost:8080/"
        },
        "id": "MEq79qHeFReb",
        "outputId": "e6b35329-2d9b-4ba7-fa93-9622647042f6"
      },
      "source": [
        "algos =  hashlib.algorithms_available \n",
        "\n",
        "value = \"Kiran Veeravalli\"\n",
        "print(\"Given string :\", value)\n",
        "for i in random.sample( algos , 3):\n",
        "  result = generate_hash_using_any_algorithm( i , value )\n",
        "  print()\n",
        "  print( \"Algorithm : {:<10s}  and Hexadecimal equivalent of Hash : {}\".format( i , result ))"
      ],
      "execution_count": 4,
      "outputs": [
        {
          "output_type": "stream",
          "text": [
            "Given string : Kiran Veeravalli\n",
            "\n",
            "Algorithm : md5         and Hexadecimal equivalent of Hash : c057754f34a76d3896bcfc11e126907f\n",
            "\n",
            "Algorithm : sha3_512    and Hexadecimal equivalent of Hash : 89556c6011d0916ebbf6e61770261d6fe05de66fc6df1369643d1cd73bac3daccb024009ab673a69e551d161e374fb3176b3635d0b05e57583013ed2f09d1c57\n",
            "\n",
            "Algorithm : sha512      and Hexadecimal equivalent of Hash : e2fb36813f8a668857343144fffcc02da86997b4f9f923c1cc3d7882e415b165c661216d6dff3b24129a02b8405fb6b3167e94b2fd2f86db6418902ed8861f85\n"
          ],
          "name": "stdout"
        }
      ]
    },
    {
      "cell_type": "code",
      "metadata": {
        "id": "sHqAk75DFULR"
      },
      "source": [
        "def md5generatehash_with_salting_and_iterations( value, salt = \"md5\", iterations = 5):\n",
        "  '''\n",
        "      This function is used to generate hash with Salting and Iteration\n",
        "      salt : default value md5. \n",
        "      iteration : default value 5. \n",
        "  '''\n",
        "  hasher = hashlib.md5( )\n",
        "  hasher.update(salt.encode())\n",
        "  hasher.update(value.encode())\n",
        "  hasher.update(salt.encode())\n",
        "  result = hasher.hexdigest()\n",
        "  for i in range( 1, iterations):\n",
        "    hasher = hashlib.md5( )\n",
        "    hasher.update(result.encode())\n",
        "    result = hasher.hexdigest()\n",
        "\n",
        "  return result"
      ],
      "execution_count": 5,
      "outputs": []
    },
    {
      "cell_type": "code",
      "metadata": {
        "colab": {
          "base_uri": "https://localhost:8080/"
        },
        "id": "Zewui_EPFbEn",
        "outputId": "845468ad-f60d-4f9e-9582-ca6723b5252c"
      },
      "source": [
        "lst = [ \"Kiran V\" ]\n",
        "\n",
        "word = string.ascii_letters+ string.digits + string.punctuation\n",
        "#generate random string of length 15\n",
        "random_string = ''.join(  random.choice( word ) for _ in range(  15 )  )\n",
        "lst.append( random_string )\n",
        "\n",
        "for i in lst:\n",
        "  a = md5generatehash_with_salting_and_iterations(i , \"sha\", 10 )\n",
        "  print( \"String : {:<15s}  and Hexadecimal equivalent of Hash : {}\".format( i , a))"
      ],
      "execution_count": 6,
      "outputs": [
        {
          "output_type": "stream",
          "text": [
            "String : Kiran V          and Hexadecimal equivalent of Hash : 0463d175d76e1a53c810dab8ee151c3c\n",
            "String : >+a;@N/!WukaE:p  and Hexadecimal equivalent of Hash : fa2026257ad38a685fc26b6afe0d50ab\n"
          ],
          "name": "stdout"
        }
      ]
    },
    {
      "cell_type": "markdown",
      "metadata": {
        "id": "CZ7-OwY_ENv8"
      },
      "source": [
        ""
      ]
    }
  ]
}